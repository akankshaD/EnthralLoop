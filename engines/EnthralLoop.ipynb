{
 "cells": [
  {
   "cell_type": "code",
   "execution_count": 7,
   "metadata": {},
   "outputs": [],
   "source": [
    "import json\n",
    "import keras\n",
    "def extractGenres(row):\n",
    "    json_dict_list = json.loads(row.genres)\n",
    "    genres = [d['name'].lower() for d in json_dict_list if 'name' in d]\n",
    "    return \" \".join(genres)"
   ]
  },
  {
   "cell_type": "code",
   "execution_count": 8,
   "metadata": {},
   "outputs": [
    {
     "name": "stdout",
     "output_type": "stream",
     "text": [
      "4803 4803\n"
     ]
    }
   ],
   "source": [
    "import pandas as pd\n",
    "df = pd.read_csv('datasets/tmdb_5000_movies.csv')\n",
    "X = [str(p.overview) for p in df.itertuples()]\n",
    "y = [extractGenres(p).rstrip() for p in df.itertuples()]\n",
    "print(len(X),len(y))"
   ]
  },
  {
   "cell_type": "code",
   "execution_count": 9,
   "metadata": {},
   "outputs": [
    {
     "name": "stdout",
     "output_type": "stream",
     "text": [
      "22811 23\n"
     ]
    }
   ],
   "source": [
    "from keras.preprocessing.text import Tokenizer\n",
    "#from keras.sequences import pad_sequences\n",
    "Xtokenizer = Tokenizer(filters='!\"#$%&()*+,-./:;<=>?@[\\\\]^_`{|}~\\t\\n',lower=True,)\n",
    "Ytokenizer = Tokenizer(filters=' ',lower=True,)\n",
    "\n",
    "Xtokenizer.fit_on_texts(X)\n",
    "plot_matrix = Xtokenizer.texts_to_matrix(X)\n",
    "\n",
    "\n",
    "Ytokenizer.fit_on_texts(y)\n",
    "genre_matrix = Ytokenizer.texts_to_matrix(y)\n",
    "\n",
    "input_size = plot_matrix.shape[1]\n",
    "output_size = genre_matrix.shape[1]\n",
    "print(input_size,output_size)"
   ]
  },
  {
   "cell_type": "code",
   "execution_count": 10,
   "metadata": {},
   "outputs": [],
   "source": [
    "split_ratio = 0.8\n",
    "split_index = int(len(X)*split_ratio)\n",
    "X_train,X_test = plot_matrix[:split_index] , plot_matrix[split_index:]\n",
    "y_train,y_test = genre_matrix[:split_index] , genre_matrix[split_index:]"
   ]
  },
  {
   "cell_type": "code",
   "execution_count": 17,
   "metadata": {},
   "outputs": [
    {
     "name": "stdout",
     "output_type": "stream",
     "text": [
      "_________________________________________________________________\n",
      "Layer (type)                 Output Shape              Param #   \n",
      "=================================================================\n",
      "dense_7 (Dense)              (None, 512)               11679744  \n",
      "_________________________________________________________________\n",
      "dropout_5 (Dropout)          (None, 512)               0         \n",
      "_________________________________________________________________\n",
      "dense_8 (Dense)              (None, 128)               65664     \n",
      "_________________________________________________________________\n",
      "dropout_6 (Dropout)          (None, 128)               0         \n",
      "_________________________________________________________________\n",
      "dense_9 (Dense)              (None, 23)                2967      \n",
      "=================================================================\n",
      "Total params: 11,748,375\n",
      "Trainable params: 11,748,375\n",
      "Non-trainable params: 0\n",
      "_________________________________________________________________\n"
     ]
    }
   ],
   "source": [
    "from keras.models import Sequential\n",
    "from keras.layers import Dense, Dropout, Activation\n",
    "from keras.optimizers import Adadelta\n",
    "model = Sequential()\n",
    "model.add(Dense(512, activation='relu', input_dim=input_size))\n",
    "model.add(Dropout(0.4))\n",
    "model.add(Dense(128, activation='relu'))\n",
    "model.add(Dropout(0.2))\n",
    "model.add(Dense(output_size, activation='sigmoid'))\n",
    "model.summary()\n",
    "\n",
    "adadelta = Adadelta(lr=0.1, rho=0.95, decay=0.0)\n",
    "model.compile(loss='categorical_crossentropy', optimizer=adadelta,metrics=['sparse_top_k_categorical_accuracy'])"
   ]
  },
  {
   "cell_type": "code",
   "execution_count": 18,
   "metadata": {},
   "outputs": [],
   "source": [
    "from keras.callbacks import Callback,ModelCheckpoint,EarlyStopping\n",
    "checkpoint=ModelCheckpoint(filepath=None,monitor='val_loss',mode='min',verbose=1)"
   ]
  },
  {
   "cell_type": "code",
   "execution_count": 19,
   "metadata": {},
   "outputs": [
    {
     "name": "stdout",
     "output_type": "stream",
     "text": [
      "Epoch 1/100\n",
      "3842/3842 [==============================] - 8s 2ms/step - loss: 8.5466 - sparse_top_k_categorical_accuracy: 0.7926\n",
      "Epoch 2/100\n",
      "3842/3842 [==============================] - 7s 2ms/step - loss: 7.9920 - sparse_top_k_categorical_accuracy: 1.0000\n",
      "Epoch 3/100\n",
      "3842/3842 [==============================] - 7s 2ms/step - loss: 7.4731 - sparse_top_k_categorical_accuracy: 1.0000\n",
      "Epoch 4/100\n",
      "3842/3842 [==============================] - 7s 2ms/step - loss: 7.3635 - sparse_top_k_categorical_accuracy: 1.0000\n",
      "Epoch 5/100\n",
      "3842/3842 [==============================] - 7s 2ms/step - loss: 7.3194 - sparse_top_k_categorical_accuracy: 1.0000\n",
      "Epoch 6/100\n",
      "3842/3842 [==============================] - 7s 2ms/step - loss: 7.2845 - sparse_top_k_categorical_accuracy: 1.0000\n",
      "Epoch 7/100\n",
      "3842/3842 [==============================] - 8s 2ms/step - loss: 7.2548 - sparse_top_k_categorical_accuracy: 1.0000\n",
      "Epoch 8/100\n",
      "3842/3842 [==============================] - 7s 2ms/step - loss: 7.2113 - sparse_top_k_categorical_accuracy: 1.0000\n",
      "Epoch 9/100\n",
      "3842/3842 [==============================] - 7s 2ms/step - loss: 7.1721 - sparse_top_k_categorical_accuracy: 1.0000\n",
      "Epoch 10/100\n",
      "3842/3842 [==============================] - 7s 2ms/step - loss: 7.1309 - sparse_top_k_categorical_accuracy: 1.0000\n",
      "Epoch 11/100\n",
      "3842/3842 [==============================] - 7s 2ms/step - loss: 7.0719 - sparse_top_k_categorical_accuracy: 1.0000\n",
      "Epoch 12/100\n",
      "3842/3842 [==============================] - 7s 2ms/step - loss: 7.0278 - sparse_top_k_categorical_accuracy: 1.0000\n",
      "Epoch 13/100\n",
      "3842/3842 [==============================] - 7s 2ms/step - loss: 6.9739 - sparse_top_k_categorical_accuracy: 1.0000\n",
      "Epoch 14/100\n",
      "3842/3842 [==============================] - 7s 2ms/step - loss: 6.9280 - sparse_top_k_categorical_accuracy: 1.0000\n",
      "Epoch 15/100\n",
      "3842/3842 [==============================] - 7s 2ms/step - loss: 6.8690 - sparse_top_k_categorical_accuracy: 1.0000\n",
      "Epoch 16/100\n",
      "3842/3842 [==============================] - 8s 2ms/step - loss: 6.8017 - sparse_top_k_categorical_accuracy: 1.0000\n",
      "Epoch 17/100\n",
      "3842/3842 [==============================] - 7s 2ms/step - loss: 6.7324 - sparse_top_k_categorical_accuracy: 1.0000\n",
      "Epoch 18/100\n",
      "3842/3842 [==============================] - 7s 2ms/step - loss: 6.6722 - sparse_top_k_categorical_accuracy: 1.0000\n",
      "Epoch 19/100\n",
      "3842/3842 [==============================] - 7s 2ms/step - loss: 6.6153 - sparse_top_k_categorical_accuracy: 1.0000\n",
      "Epoch 20/100\n",
      "3842/3842 [==============================] - 7s 2ms/step - loss: 6.5565 - sparse_top_k_categorical_accuracy: 1.0000\n",
      "Epoch 21/100\n",
      "3842/3842 [==============================] - 7s 2ms/step - loss: 6.4957 - sparse_top_k_categorical_accuracy: 1.0000\n",
      "Epoch 22/100\n",
      "3842/3842 [==============================] - 7s 2ms/step - loss: 6.4253 - sparse_top_k_categorical_accuracy: 1.0000\n",
      "Epoch 23/100\n",
      "3842/3842 [==============================] - 7s 2ms/step - loss: 6.3812 - sparse_top_k_categorical_accuracy: 0.9997\n",
      "Epoch 24/100\n",
      "3842/3842 [==============================] - 7s 2ms/step - loss: 6.3036 - sparse_top_k_categorical_accuracy: 1.0000\n",
      "Epoch 25/100\n",
      "3842/3842 [==============================] - 7s 2ms/step - loss: 6.2313 - sparse_top_k_categorical_accuracy: 1.0000\n",
      "Epoch 26/100\n",
      "3842/3842 [==============================] - 7s 2ms/step - loss: 6.1504 - sparse_top_k_categorical_accuracy: 0.9997\n",
      "Epoch 27/100\n",
      "3842/3842 [==============================] - 7s 2ms/step - loss: 6.0820 - sparse_top_k_categorical_accuracy: 0.9997\n",
      "Epoch 28/100\n",
      "3842/3842 [==============================] - 7s 2ms/step - loss: 6.0124 - sparse_top_k_categorical_accuracy: 0.9984\n",
      "Epoch 29/100\n",
      "3842/3842 [==============================] - 7s 2ms/step - loss: 5.9332 - sparse_top_k_categorical_accuracy: 0.9961\n",
      "Epoch 30/100\n",
      "3842/3842 [==============================] - 7s 2ms/step - loss: 5.8871 - sparse_top_k_categorical_accuracy: 0.9836\n",
      "Epoch 31/100\n",
      "3842/3842 [==============================] - 7s 2ms/step - loss: 5.7977 - sparse_top_k_categorical_accuracy: 0.9459\n",
      "Epoch 32/100\n",
      "3842/3842 [==============================] - 7s 2ms/step - loss: 5.7097 - sparse_top_k_categorical_accuracy: 0.9099\n",
      "Epoch 33/100\n",
      "3842/3842 [==============================] - 7s 2ms/step - loss: 5.6413 - sparse_top_k_categorical_accuracy: 0.8792\n",
      "Epoch 34/100\n",
      "3842/3842 [==============================] - 7s 2ms/step - loss: 5.5849 - sparse_top_k_categorical_accuracy: 0.8597\n",
      "Epoch 35/100\n",
      "3842/3842 [==============================] - 7s 2ms/step - loss: 5.5154 - sparse_top_k_categorical_accuracy: 0.8475\n",
      "Epoch 36/100\n",
      "3842/3842 [==============================] - 7s 2ms/step - loss: 5.4561 - sparse_top_k_categorical_accuracy: 0.8402\n",
      "Epoch 37/100\n",
      "3842/3842 [==============================] - 7s 2ms/step - loss: 5.4045 - sparse_top_k_categorical_accuracy: 0.8368\n",
      "Epoch 38/100\n",
      "3842/3842 [==============================] - 7s 2ms/step - loss: 5.3564 - sparse_top_k_categorical_accuracy: 0.8248\n",
      "Epoch 39/100\n",
      "3842/3842 [==============================] - 7s 2ms/step - loss: 5.2937 - sparse_top_k_categorical_accuracy: 0.8230\n",
      "Epoch 40/100\n",
      "3842/3842 [==============================] - 7s 2ms/step - loss: 5.2335 - sparse_top_k_categorical_accuracy: 0.8243\n",
      "Epoch 41/100\n",
      "3842/3842 [==============================] - 7s 2ms/step - loss: 5.2003 - sparse_top_k_categorical_accuracy: 0.8160\n",
      "Epoch 42/100\n",
      "3842/3842 [==============================] - 7s 2ms/step - loss: 5.1651 - sparse_top_k_categorical_accuracy: 0.8139\n",
      "Epoch 43/100\n",
      "3842/3842 [==============================] - 7s 2ms/step - loss: 5.1057 - sparse_top_k_categorical_accuracy: 0.8134\n",
      "Epoch 44/100\n",
      "3842/3842 [==============================] - 7s 2ms/step - loss: 5.0716 - sparse_top_k_categorical_accuracy: 0.8056\n",
      "Epoch 45/100\n",
      "3842/3842 [==============================] - 7s 2ms/step - loss: 5.0277 - sparse_top_k_categorical_accuracy: 0.7957\n",
      "Epoch 46/100\n",
      "3842/3842 [==============================] - 7s 2ms/step - loss: 4.9728 - sparse_top_k_categorical_accuracy: 0.7949\n",
      "Epoch 47/100\n",
      "3842/3842 [==============================] - 7s 2ms/step - loss: 4.9302 - sparse_top_k_categorical_accuracy: 0.7983\n",
      "Epoch 48/100\n",
      "3842/3842 [==============================] - 8s 2ms/step - loss: 4.8858 - sparse_top_k_categorical_accuracy: 0.8004\n",
      "Epoch 49/100\n",
      "3842/3842 [==============================] - 8s 2ms/step - loss: 4.8439 - sparse_top_k_categorical_accuracy: 0.7821\n",
      "Epoch 50/100\n",
      "3842/3842 [==============================] - 7s 2ms/step - loss: 4.8173 - sparse_top_k_categorical_accuracy: 0.7926\n",
      "Epoch 51/100\n",
      "3842/3842 [==============================] - 7s 2ms/step - loss: 4.7738 - sparse_top_k_categorical_accuracy: 0.7931\n",
      "Epoch 52/100\n",
      "3842/3842 [==============================] - 8s 2ms/step - loss: 4.7458 - sparse_top_k_categorical_accuracy: 0.7775\n",
      "Epoch 53/100\n",
      "3842/3842 [==============================] - 7s 2ms/step - loss: 4.7053 - sparse_top_k_categorical_accuracy: 0.7871\n",
      "Epoch 54/100\n",
      "3842/3842 [==============================] - 7s 2ms/step - loss: 4.6749 - sparse_top_k_categorical_accuracy: 0.7863\n",
      "Epoch 55/100\n",
      "3842/3842 [==============================] - 7s 2ms/step - loss: 4.6418 - sparse_top_k_categorical_accuracy: 0.7855\n",
      "Epoch 56/100\n",
      "3842/3842 [==============================] - 7s 2ms/step - loss: 4.6022 - sparse_top_k_categorical_accuracy: 0.7811\n",
      "Epoch 57/100\n",
      "3842/3842 [==============================] - 7s 2ms/step - loss: 4.5748 - sparse_top_k_categorical_accuracy: 0.7894\n",
      "Epoch 58/100\n",
      "3842/3842 [==============================] - 7s 2ms/step - loss: 4.5263 - sparse_top_k_categorical_accuracy: 0.7775\n",
      "Epoch 59/100\n",
      "3842/3842 [==============================] - 7s 2ms/step - loss: 4.5128 - sparse_top_k_categorical_accuracy: 0.7759\n",
      "Epoch 60/100\n",
      "3842/3842 [==============================] - 7s 2ms/step - loss: 4.4787 - sparse_top_k_categorical_accuracy: 0.7743\n",
      "Epoch 61/100\n",
      "3842/3842 [==============================] - 7s 2ms/step - loss: 4.4520 - sparse_top_k_categorical_accuracy: 0.7769\n",
      "Epoch 62/100\n",
      "3842/3842 [==============================] - 7s 2ms/step - loss: 4.4126 - sparse_top_k_categorical_accuracy: 0.7715\n",
      "Epoch 63/100\n",
      "3842/3842 [==============================] - 7s 2ms/step - loss: 4.3911 - sparse_top_k_categorical_accuracy: 0.7840\n",
      "Epoch 64/100\n"
     ]
    },
    {
     "name": "stdout",
     "output_type": "stream",
     "text": [
      "3842/3842 [==============================] - 7s 2ms/step - loss: 4.3837 - sparse_top_k_categorical_accuracy: 0.7782\n",
      "Epoch 65/100\n",
      "3842/3842 [==============================] - 7s 2ms/step - loss: 4.3497 - sparse_top_k_categorical_accuracy: 0.7736\n",
      "Epoch 66/100\n",
      "3842/3842 [==============================] - 7s 2ms/step - loss: 4.3287 - sparse_top_k_categorical_accuracy: 0.7707\n",
      "Epoch 67/100\n",
      "3842/3842 [==============================] - 8s 2ms/step - loss: 4.2905 - sparse_top_k_categorical_accuracy: 0.7660\n",
      "Epoch 68/100\n",
      "3842/3842 [==============================] - 8s 2ms/step - loss: 4.2757 - sparse_top_k_categorical_accuracy: 0.7743\n",
      "Epoch 69/100\n",
      "3842/3842 [==============================] - 7s 2ms/step - loss: 4.2566 - sparse_top_k_categorical_accuracy: 0.7676\n",
      "Epoch 70/100\n",
      "3842/3842 [==============================] - 7s 2ms/step - loss: 4.2402 - sparse_top_k_categorical_accuracy: 0.7650\n",
      "Epoch 71/100\n",
      "3842/3842 [==============================] - 7s 2ms/step - loss: 4.1956 - sparse_top_k_categorical_accuracy: 0.7639\n",
      "Epoch 72/100\n",
      "3842/3842 [==============================] - 7s 2ms/step - loss: 4.1820 - sparse_top_k_categorical_accuracy: 0.7663\n",
      "Epoch 73/100\n",
      "3842/3842 [==============================] - 7s 2ms/step - loss: 4.1695 - sparse_top_k_categorical_accuracy: 0.7639\n",
      "Epoch 74/100\n",
      "3842/3842 [==============================] - 7s 2ms/step - loss: 4.1364 - sparse_top_k_categorical_accuracy: 0.7569\n",
      "Epoch 75/100\n",
      "3842/3842 [==============================] - 7s 2ms/step - loss: 4.1310 - sparse_top_k_categorical_accuracy: 0.7574\n",
      "Epoch 76/100\n",
      "3842/3842 [==============================] - 8s 2ms/step - loss: 4.1091 - sparse_top_k_categorical_accuracy: 0.7579\n",
      "Epoch 77/100\n",
      "3842/3842 [==============================] - 7s 2ms/step - loss: 4.0894 - sparse_top_k_categorical_accuracy: 0.7626\n",
      "Epoch 78/100\n",
      "3842/3842 [==============================] - 7s 2ms/step - loss: 4.0690 - sparse_top_k_categorical_accuracy: 0.7525\n",
      "Epoch 79/100\n",
      "3842/3842 [==============================] - 7s 2ms/step - loss: 4.0496 - sparse_top_k_categorical_accuracy: 0.7543\n",
      "Epoch 80/100\n",
      "3842/3842 [==============================] - 7s 2ms/step - loss: 4.0221 - sparse_top_k_categorical_accuracy: 0.7480\n",
      "Epoch 81/100\n",
      "3842/3842 [==============================] - 7s 2ms/step - loss: 4.0134 - sparse_top_k_categorical_accuracy: 0.7582\n",
      "Epoch 82/100\n",
      "3842/3842 [==============================] - 7s 2ms/step - loss: 4.0031 - sparse_top_k_categorical_accuracy: 0.7540\n",
      "Epoch 83/100\n",
      "3842/3842 [==============================] - 7s 2ms/step - loss: 3.9703 - sparse_top_k_categorical_accuracy: 0.7546\n",
      "Epoch 84/100\n",
      "3842/3842 [==============================] - 7s 2ms/step - loss: 3.9627 - sparse_top_k_categorical_accuracy: 0.7574\n",
      "Epoch 85/100\n",
      "3842/3842 [==============================] - 8s 2ms/step - loss: 3.9552 - sparse_top_k_categorical_accuracy: 0.7533\n",
      "Epoch 86/100\n",
      "3842/3842 [==============================] - 7s 2ms/step - loss: 3.9346 - sparse_top_k_categorical_accuracy: 0.7590\n",
      "Epoch 87/100\n",
      "3842/3842 [==============================] - 7s 2ms/step - loss: 3.9249 - sparse_top_k_categorical_accuracy: 0.7527\n",
      "Epoch 88/100\n",
      "3842/3842 [==============================] - 7s 2ms/step - loss: 3.9026 - sparse_top_k_categorical_accuracy: 0.7559\n",
      "Epoch 89/100\n",
      "3842/3842 [==============================] - 7s 2ms/step - loss: 3.8965 - sparse_top_k_categorical_accuracy: 0.7507\n",
      "Epoch 90/100\n",
      "3842/3842 [==============================] - 7s 2ms/step - loss: 3.8666 - sparse_top_k_categorical_accuracy: 0.7587\n",
      "Epoch 91/100\n",
      "3842/3842 [==============================] - 7s 2ms/step - loss: 3.8541 - sparse_top_k_categorical_accuracy: 0.7392\n",
      "Epoch 92/100\n",
      "3842/3842 [==============================] - 7s 2ms/step - loss: 3.8434 - sparse_top_k_categorical_accuracy: 0.7405\n",
      "Epoch 93/100\n",
      "3842/3842 [==============================] - 7s 2ms/step - loss: 3.8319 - sparse_top_k_categorical_accuracy: 0.7548\n",
      "Epoch 94/100\n",
      "3842/3842 [==============================] - 7s 2ms/step - loss: 3.8241 - sparse_top_k_categorical_accuracy: 0.7418\n",
      "Epoch 95/100\n",
      "3842/3842 [==============================] - 7s 2ms/step - loss: 3.7994 - sparse_top_k_categorical_accuracy: 0.7491\n",
      "Epoch 96/100\n",
      "3842/3842 [==============================] - 7s 2ms/step - loss: 3.7980 - sparse_top_k_categorical_accuracy: 0.7395\n",
      "Epoch 97/100\n",
      "3842/3842 [==============================] - 7s 2ms/step - loss: 3.7804 - sparse_top_k_categorical_accuracy: 0.7454\n",
      "Epoch 98/100\n",
      "3842/3842 [==============================] - 7s 2ms/step - loss: 3.7693 - sparse_top_k_categorical_accuracy: 0.7486\n",
      "Epoch 99/100\n",
      "3842/3842 [==============================] - 7s 2ms/step - loss: 3.7609 - sparse_top_k_categorical_accuracy: 0.7499\n",
      "Epoch 100/100\n",
      "3842/3842 [==============================] - 7s 2ms/step - loss: 3.7498 - sparse_top_k_categorical_accuracy: 0.7397\n"
     ]
    },
    {
     "data": {
      "text/plain": [
       "<keras.callbacks.History at 0x7fe9c4badba8>"
      ]
     },
     "execution_count": 19,
     "metadata": {},
     "output_type": "execute_result"
    }
   ],
   "source": [
    "import numpy as np\n",
    "model.fit(np.array(X_train), np.array(y_train),epochs=100, batch_size=128, verbose=1,callbacks=[])"
   ]
  },
  {
   "cell_type": "code",
   "execution_count": 20,
   "metadata": {},
   "outputs": [
    {
     "name": "stdout",
     "output_type": "stream",
     "text": [
      "Accuracy:  [5.609634281817385, 0.8720083246618107]\n"
     ]
    }
   ],
   "source": [
    "score = model.evaluate(np.array(X_test), np.array(y_test), verbose=0)\n",
    "print(\"Accuracy: \", score)"
   ]
  },
  {
   "cell_type": "code",
   "execution_count": 21,
   "metadata": {},
   "outputs": [
    {
     "name": "stdout",
     "output_type": "stream",
     "text": [
      "[[3.7392962e-05 4.5298678e-03 1.4219886e-01 ... 1.0041806e-04\n",
      "  4.0718842e-05 2.9475548e-05]\n",
      " [2.0476828e-06 2.9729018e-01 1.1329710e-01 ... 8.2591541e-05\n",
      "  2.3299972e-05 3.3698190e-05]\n",
      " [2.2117400e-05 9.0507883e-01 1.7676065e-02 ... 2.6224409e-03\n",
      "  3.8952573e-04 5.2324601e-04]\n",
      " ...\n",
      " [2.1419135e-05 2.4373114e-01 1.0262808e-02 ... 6.8459689e-04\n",
      "  1.8794466e-04 1.5066075e-04]\n",
      " [6.9308487e-07 5.7306314e-01 1.0915647e-01 ... 1.1384044e-04\n",
      "  1.7983399e-05 3.5880286e-05]\n",
      " [4.1873191e-06 3.2369420e-02 6.4464766e-01 ... 3.1808534e-04\n",
      "  8.2639126e-05 4.1704221e-05]]\n"
     ]
    }
   ],
   "source": [
    "print(model.predict(np.array(X_test)))"
   ]
  },
  {
   "cell_type": "code",
   "execution_count": 22,
   "metadata": {},
   "outputs": [
    {
     "data": {
      "text/plain": [
       "(961, 22811)"
      ]
     },
     "execution_count": 22,
     "metadata": {},
     "output_type": "execute_result"
    }
   ],
   "source": [
    "np.array(X_test).shape"
   ]
  },
  {
   "cell_type": "code",
   "execution_count": null,
   "metadata": {},
   "outputs": [],
   "source": []
  }
 ],
 "metadata": {
  "kernelspec": {
   "display_name": "Python 3",
   "language": "python",
   "name": "python3"
  },
  "language_info": {
   "codemirror_mode": {
    "name": "ipython",
    "version": 3
   },
   "file_extension": ".py",
   "mimetype": "text/x-python",
   "name": "python",
   "nbconvert_exporter": "python",
   "pygments_lexer": "ipython3",
   "version": "3.6.4"
  }
 },
 "nbformat": 4,
 "nbformat_minor": 2
}
