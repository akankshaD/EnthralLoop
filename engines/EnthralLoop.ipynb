{
 "cells": [
  {
   "cell_type": "code",
   "execution_count": 64,
   "metadata": {},
   "outputs": [],
   "source": [
    "import json\n",
    "\n",
    "def extractGenres(row):\n",
    "    json_dict_list = json.loads(row.genres)\n",
    "    genres = [d['name'].lower() for d in json_dict_list if 'name' in d]\n",
    "    return \" \".join(genres)"
   ]
  },
  {
   "cell_type": "code",
   "execution_count": 65,
   "metadata": {},
   "outputs": [
    {
     "name": "stdout",
     "output_type": "stream",
     "text": [
      "4803 4803\n"
     ]
    }
   ],
   "source": [
    "import pandas as pd\n",
    "df = pd.read_csv('datasets/tmdb_5000_movies.csv')\n",
    "X = [str(p.overview) for p in df.itertuples()]\n",
    "y = [extractGenres(p).rstrip() for p in df.itertuples()]\n",
    "print(len(X),len(y))"
   ]
  },
  {
   "cell_type": "code",
   "execution_count": 82,
   "metadata": {},
   "outputs": [
    {
     "name": "stdout",
     "output_type": "stream",
     "text": [
      "3571 23\n"
     ]
    }
   ],
   "source": [
    "from keras.preprocessing.text import Tokenizer\n",
    "from keras.sequences import pad_sequences\n",
    "Xtokenizer = Tokenizer(num_words=3571,filters='!\"#$%&()*+,-./:;<=>?@[\\\\]^_`{|}~\\t\\n',lower=True,)\n",
    "Ytokenizer = Tokenizer(filters=' ',lower=True,)\n",
    "\n",
    "Xtokenizer.fit_on_texts(X)\n",
    "plot_matrix = Xtokenizer.texts_to_matrix(X)\n",
    "\n",
    "\n",
    "Ytokenizer.fit_on_texts(y)\n",
    "genre_matrix = Ytokenizer.texts_to_matrix(y)\n",
    "\n",
    "input_size = plot_matrix.shape[1]\n",
    "output_size = genre_matrix.shape[1]\n",
    "print(input_size,output_size)"
   ]
  },
  {
   "cell_type": "code",
   "execution_count": 83,
   "metadata": {},
   "outputs": [],
   "source": [
    "split_ratio = 0.8\n",
    "split_index = int(len(X)*split_ratio)\n",
    "X_train,X_test = plot_matrix[:split_index] , plot_matrix[split_index:]\n",
    "y_train,y_test = genre_matrix[:split_index] , genre_matrix[split_index:]"
   ]
  },
  {
   "cell_type": "code",
   "execution_count": 98,
   "metadata": {},
   "outputs": [
    {
     "name": "stdout",
     "output_type": "stream",
     "text": [
      "_________________________________________________________________\n",
      "Layer (type)                 Output Shape              Param #   \n",
      "=================================================================\n",
      "dense_31 (Dense)             (None, 512)               1828864   \n",
      "_________________________________________________________________\n",
      "dropout_21 (Dropout)         (None, 512)               0         \n",
      "_________________________________________________________________\n",
      "dense_32 (Dense)             (None, 128)               65664     \n",
      "_________________________________________________________________\n",
      "dropout_22 (Dropout)         (None, 128)               0         \n",
      "_________________________________________________________________\n",
      "dense_33 (Dense)             (None, 23)                2967      \n",
      "=================================================================\n",
      "Total params: 1,897,495\n",
      "Trainable params: 1,897,495\n",
      "Non-trainable params: 0\n",
      "_________________________________________________________________\n"
     ]
    }
   ],
   "source": [
    "from keras.models import Sequential\n",
    "from keras.layers import Dense, Dropout, Activation\n",
    "\n",
    "model = Sequential()\n",
    "model.add(Dense(512, activation='relu', input_dim=input_size))\n",
    "model.add(Dropout(0.9))\n",
    "model.add(Dense(128, activation='relu'))\n",
    "model.add(Dropout(0.8))\n",
    "model.add(Dense(output_size, activation='sigmoid'))\n",
    "model.summary()\n",
    "\n",
    "adadelta = keras.optimizers.Adadelta(lr=0.1, rho=0.95, decay=0.0)\n",
    "model.compile(loss='categorical_crossentropy', optimizer=adadelta,metrics=['top_k_categorical_accuracy'])"
   ]
  },
  {
   "cell_type": "code",
   "execution_count": null,
   "metadata": {},
   "outputs": [],
   "source": [
    "from keras.callbacks import Callback,ModelCheckpoint,EarlyStopping\n",
    "checkpoint=ModelCheckpoint(monitor='val_loss',mode='min',verbose=1)"
   ]
  },
  {
   "cell_type": "code",
   "execution_count": 106,
   "metadata": {},
   "outputs": [
    {
     "name": "stdout",
     "output_type": "stream",
     "text": [
      "Train on 3842 samples, validate on 961 samples\n",
      "Epoch 1/100\n",
      "3842/3842 [==============================] - 2s 511us/step - loss: 6.6859 - top_k_categorical_accuracy: 0.9276 - val_loss: 5.5690 - val_top_k_categorical_accuracy: 0.8158\n",
      "Epoch 2/100\n",
      "3842/3842 [==============================] - 1s 328us/step - loss: 6.6898 - top_k_categorical_accuracy: 0.9258 - val_loss: 5.5679 - val_top_k_categorical_accuracy: 0.8158\n",
      "Epoch 3/100\n",
      "3842/3842 [==============================] - 2s 424us/step - loss: 6.7090 - top_k_categorical_accuracy: 0.9295 - val_loss: 5.5672 - val_top_k_categorical_accuracy: 0.8158\n",
      "Epoch 4/100\n",
      "3842/3842 [==============================] - 2s 398us/step - loss: 6.6976 - top_k_categorical_accuracy: 0.9198 - val_loss: 5.5653 - val_top_k_categorical_accuracy: 0.8158\n",
      "Epoch 5/100\n",
      "3842/3842 [==============================] - 2s 437us/step - loss: 6.6848 - top_k_categorical_accuracy: 0.9274 - val_loss: 5.5643 - val_top_k_categorical_accuracy: 0.8148\n",
      "Epoch 6/100\n",
      "3842/3842 [==============================] - 2s 412us/step - loss: 6.6804 - top_k_categorical_accuracy: 0.9243 - val_loss: 5.5632 - val_top_k_categorical_accuracy: 0.8148\n",
      "Epoch 7/100\n",
      "3842/3842 [==============================] - 2s 424us/step - loss: 6.6628 - top_k_categorical_accuracy: 0.9261 - val_loss: 5.5644 - val_top_k_categorical_accuracy: 0.8148\n",
      "Epoch 8/100\n",
      "3842/3842 [==============================] - 2s 435us/step - loss: 6.6756 - top_k_categorical_accuracy: 0.9258 - val_loss: 5.5633 - val_top_k_categorical_accuracy: 0.8148\n",
      "Epoch 9/100\n",
      "3842/3842 [==============================] - 2s 432us/step - loss: 6.6850 - top_k_categorical_accuracy: 0.9201 - val_loss: 5.5631 - val_top_k_categorical_accuracy: 0.8148\n",
      "Epoch 10/100\n",
      "3842/3842 [==============================] - 1s 390us/step - loss: 6.6472 - top_k_categorical_accuracy: 0.9269 - val_loss: 5.5628 - val_top_k_categorical_accuracy: 0.8148\n",
      "Epoch 11/100\n",
      "3842/3842 [==============================] - 2s 462us/step - loss: 6.6836 - top_k_categorical_accuracy: 0.9253 - val_loss: 5.5598 - val_top_k_categorical_accuracy: 0.8148\n",
      "Epoch 12/100\n",
      "3842/3842 [==============================] - 2s 480us/step - loss: 6.6357 - top_k_categorical_accuracy: 0.9279 - val_loss: 5.5588 - val_top_k_categorical_accuracy: 0.8148\n",
      "Epoch 13/100\n",
      "3842/3842 [==============================] - 2s 439us/step - loss: 6.6933 - top_k_categorical_accuracy: 0.9222 - val_loss: 5.5605 - val_top_k_categorical_accuracy: 0.8148\n",
      "Epoch 14/100\n",
      "3842/3842 [==============================] - 2s 471us/step - loss: 6.6515 - top_k_categorical_accuracy: 0.9227 - val_loss: 5.5606 - val_top_k_categorical_accuracy: 0.8148\n",
      "Epoch 15/100\n",
      "3842/3842 [==============================] - 1s 380us/step - loss: 6.6506 - top_k_categorical_accuracy: 0.9211 - val_loss: 5.5604 - val_top_k_categorical_accuracy: 0.8158\n",
      "Epoch 16/100\n",
      "3842/3842 [==============================] - 2s 414us/step - loss: 6.6627 - top_k_categorical_accuracy: 0.9237 - val_loss: 5.5576 - val_top_k_categorical_accuracy: 0.8158\n",
      "Epoch 17/100\n",
      "3842/3842 [==============================] - 2s 437us/step - loss: 6.6374 - top_k_categorical_accuracy: 0.9227 - val_loss: 5.5591 - val_top_k_categorical_accuracy: 0.8148\n",
      "Epoch 18/100\n",
      "3842/3842 [==============================] - 2s 400us/step - loss: 6.6382 - top_k_categorical_accuracy: 0.9193 - val_loss: 5.5580 - val_top_k_categorical_accuracy: 0.8148\n",
      "Epoch 19/100\n",
      "3842/3842 [==============================] - 2s 402us/step - loss: 6.6322 - top_k_categorical_accuracy: 0.9183 - val_loss: 5.5573 - val_top_k_categorical_accuracy: 0.8148\n",
      "Epoch 20/100\n",
      "3842/3842 [==============================] - 2s 450us/step - loss: 6.6450 - top_k_categorical_accuracy: 0.9206 - val_loss: 5.5575 - val_top_k_categorical_accuracy: 0.8148\n",
      "Epoch 21/100\n",
      "3842/3842 [==============================] - 2s 481us/step - loss: 6.6312 - top_k_categorical_accuracy: 0.9258 - val_loss: 5.5560 - val_top_k_categorical_accuracy: 0.8137\n",
      "Epoch 22/100\n",
      "3842/3842 [==============================] - 2s 461us/step - loss: 6.6267 - top_k_categorical_accuracy: 0.9227 - val_loss: 5.5555 - val_top_k_categorical_accuracy: 0.8148\n",
      "Epoch 23/100\n",
      "3842/3842 [==============================] - 2s 435us/step - loss: 6.6092 - top_k_categorical_accuracy: 0.9209 - val_loss: 5.5553 - val_top_k_categorical_accuracy: 0.8137\n",
      "Epoch 24/100\n",
      "3842/3842 [==============================] - 2s 445us/step - loss: 6.6212 - top_k_categorical_accuracy: 0.9206 - val_loss: 5.5564 - val_top_k_categorical_accuracy: 0.8127\n",
      "Epoch 25/100\n",
      "3842/3842 [==============================] - 2s 573us/step - loss: 6.6322 - top_k_categorical_accuracy: 0.9167 - val_loss: 5.5556 - val_top_k_categorical_accuracy: 0.8127\n",
      "Epoch 26/100\n",
      "3842/3842 [==============================] - 2s 477us/step - loss: 6.6083 - top_k_categorical_accuracy: 0.9240 - val_loss: 5.5548 - val_top_k_categorical_accuracy: 0.8117\n",
      "Epoch 27/100\n",
      "3842/3842 [==============================] - 2s 448us/step - loss: 6.6291 - top_k_categorical_accuracy: 0.9183 - val_loss: 5.5536 - val_top_k_categorical_accuracy: 0.8106\n",
      "Epoch 28/100\n",
      "3842/3842 [==============================] - 2s 419us/step - loss: 6.5932 - top_k_categorical_accuracy: 0.9266 - val_loss: 5.5525 - val_top_k_categorical_accuracy: 0.8106\n",
      "Epoch 29/100\n",
      "3842/3842 [==============================] - 2s 458us/step - loss: 6.5798 - top_k_categorical_accuracy: 0.9217 - val_loss: 5.5509 - val_top_k_categorical_accuracy: 0.8106\n",
      "Epoch 30/100\n",
      "3842/3842 [==============================] - 2s 400us/step - loss: 6.5914 - top_k_categorical_accuracy: 0.9245 - val_loss: 5.5500 - val_top_k_categorical_accuracy: 0.8106\n",
      "Epoch 31/100\n",
      "3842/3842 [==============================] - 2s 468us/step - loss: 6.5801 - top_k_categorical_accuracy: 0.9206 - val_loss: 5.5502 - val_top_k_categorical_accuracy: 0.8106\n",
      "Epoch 32/100\n",
      "3842/3842 [==============================] - 2s 467us/step - loss: 6.5792 - top_k_categorical_accuracy: 0.9214 - val_loss: 5.5485 - val_top_k_categorical_accuracy: 0.8117\n",
      "Epoch 33/100\n",
      "3842/3842 [==============================] - 2s 422us/step - loss: 6.6028 - top_k_categorical_accuracy: 0.9183 - val_loss: 5.5471 - val_top_k_categorical_accuracy: 0.8127\n",
      "Epoch 34/100\n",
      "3842/3842 [==============================] - 2s 397us/step - loss: 6.5915 - top_k_categorical_accuracy: 0.9188 - val_loss: 5.5489 - val_top_k_categorical_accuracy: 0.8137\n",
      "Epoch 35/100\n",
      "3842/3842 [==============================] - 2s 421us/step - loss: 6.5630 - top_k_categorical_accuracy: 0.9178 - val_loss: 5.5488 - val_top_k_categorical_accuracy: 0.8127\n",
      "Epoch 36/100\n",
      "3842/3842 [==============================] - 1s 352us/step - loss: 6.5840 - top_k_categorical_accuracy: 0.9193 - val_loss: 5.5463 - val_top_k_categorical_accuracy: 0.8117\n",
      "Epoch 37/100\n",
      "3842/3842 [==============================] - 2s 394us/step - loss: 6.6021 - top_k_categorical_accuracy: 0.9227 - val_loss: 5.5448 - val_top_k_categorical_accuracy: 0.8117\n",
      "Epoch 38/100\n",
      "3842/3842 [==============================] - 1s 348us/step - loss: 6.5837 - top_k_categorical_accuracy: 0.9248 - val_loss: 5.5443 - val_top_k_categorical_accuracy: 0.8106\n",
      "Epoch 39/100\n",
      "3842/3842 [==============================] - 2s 466us/step - loss: 6.5563 - top_k_categorical_accuracy: 0.9235 - val_loss: 5.5457 - val_top_k_categorical_accuracy: 0.8117\n",
      "Epoch 40/100\n",
      "3842/3842 [==============================] - 2s 445us/step - loss: 6.5545 - top_k_categorical_accuracy: 0.9172 - val_loss: 5.5456 - val_top_k_categorical_accuracy: 0.8106\n",
      "Epoch 41/100\n",
      "3842/3842 [==============================] - 2s 465us/step - loss: 6.5704 - top_k_categorical_accuracy: 0.9240 - val_loss: 5.5433 - val_top_k_categorical_accuracy: 0.8106\n",
      "Epoch 42/100\n",
      "3842/3842 [==============================] - 2s 469us/step - loss: 6.5531 - top_k_categorical_accuracy: 0.9133 - val_loss: 5.5440 - val_top_k_categorical_accuracy: 0.8117\n",
      "Epoch 43/100\n",
      "3842/3842 [==============================] - 2s 447us/step - loss: 6.5114 - top_k_categorical_accuracy: 0.9198 - val_loss: 5.5468 - val_top_k_categorical_accuracy: 0.8117\n",
      "Epoch 44/100\n",
      "3842/3842 [==============================] - 2s 439us/step - loss: 6.5242 - top_k_categorical_accuracy: 0.9193 - val_loss: 5.5458 - val_top_k_categorical_accuracy: 0.8117\n",
      "Epoch 45/100\n"
     ]
    },
    {
     "name": "stdout",
     "output_type": "stream",
     "text": [
      "3842/3842 [==============================] - 2s 422us/step - loss: 6.5240 - top_k_categorical_accuracy: 0.9144 - val_loss: 5.5455 - val_top_k_categorical_accuracy: 0.8106\n",
      "Epoch 46/100\n",
      "3842/3842 [==============================] - 2s 407us/step - loss: 6.5425 - top_k_categorical_accuracy: 0.9185 - val_loss: 5.5442 - val_top_k_categorical_accuracy: 0.8106\n",
      "Epoch 47/100\n",
      "3842/3842 [==============================] - 1s 363us/step - loss: 6.5347 - top_k_categorical_accuracy: 0.9157 - val_loss: 5.5430 - val_top_k_categorical_accuracy: 0.8106\n",
      "Epoch 48/100\n",
      "3842/3842 [==============================] - 2s 402us/step - loss: 6.5593 - top_k_categorical_accuracy: 0.9105 - val_loss: 5.5414 - val_top_k_categorical_accuracy: 0.8106\n",
      "Epoch 49/100\n",
      "3842/3842 [==============================] - 2s 471us/step - loss: 6.5550 - top_k_categorical_accuracy: 0.9172 - val_loss: 5.5414 - val_top_k_categorical_accuracy: 0.8117\n",
      "Epoch 50/100\n",
      "3842/3842 [==============================] - 2s 440us/step - loss: 6.5400 - top_k_categorical_accuracy: 0.9068 - val_loss: 5.5400 - val_top_k_categorical_accuracy: 0.8117\n",
      "Epoch 51/100\n",
      "3842/3842 [==============================] - 2s 422us/step - loss: 6.5210 - top_k_categorical_accuracy: 0.9178 - val_loss: 5.5408 - val_top_k_categorical_accuracy: 0.8117\n",
      "Epoch 52/100\n",
      "3842/3842 [==============================] - 2s 398us/step - loss: 6.5260 - top_k_categorical_accuracy: 0.9201 - val_loss: 5.5394 - val_top_k_categorical_accuracy: 0.8137\n",
      "Epoch 53/100\n",
      "3842/3842 [==============================] - 2s 458us/step - loss: 6.5313 - top_k_categorical_accuracy: 0.9227 - val_loss: 5.5391 - val_top_k_categorical_accuracy: 0.8137\n",
      "Epoch 54/100\n",
      "3842/3842 [==============================] - 2s 442us/step - loss: 6.5196 - top_k_categorical_accuracy: 0.9128 - val_loss: 5.5374 - val_top_k_categorical_accuracy: 0.8127\n",
      "Epoch 55/100\n",
      "3842/3842 [==============================] - 2s 450us/step - loss: 6.5392 - top_k_categorical_accuracy: 0.9118 - val_loss: 5.5364 - val_top_k_categorical_accuracy: 0.8127\n",
      "Epoch 56/100\n",
      "3842/3842 [==============================] - 2s 533us/step - loss: 6.5332 - top_k_categorical_accuracy: 0.9149 - val_loss: 5.5355 - val_top_k_categorical_accuracy: 0.8137\n",
      "Epoch 57/100\n",
      "3842/3842 [==============================] - 2s 495us/step - loss: 6.5111 - top_k_categorical_accuracy: 0.9138 - val_loss: 5.5351 - val_top_k_categorical_accuracy: 0.8137\n",
      "Epoch 58/100\n",
      "3842/3842 [==============================] - 2s 531us/step - loss: 6.5027 - top_k_categorical_accuracy: 0.9144 - val_loss: 5.5350 - val_top_k_categorical_accuracy: 0.8137\n",
      "Epoch 59/100\n",
      "3842/3842 [==============================] - 2s 435us/step - loss: 6.4927 - top_k_categorical_accuracy: 0.9131 - val_loss: 5.5358 - val_top_k_categorical_accuracy: 0.8127\n",
      "Epoch 60/100\n",
      "3842/3842 [==============================] - 2s 451us/step - loss: 6.4830 - top_k_categorical_accuracy: 0.9149 - val_loss: 5.5366 - val_top_k_categorical_accuracy: 0.8127\n",
      "Epoch 61/100\n",
      "3842/3842 [==============================] - 2s 469us/step - loss: 6.4915 - top_k_categorical_accuracy: 0.9086 - val_loss: 5.5367 - val_top_k_categorical_accuracy: 0.8117\n",
      "Epoch 62/100\n",
      "3842/3842 [==============================] - 2s 473us/step - loss: 6.5008 - top_k_categorical_accuracy: 0.9112 - val_loss: 5.5396 - val_top_k_categorical_accuracy: 0.8117\n",
      "Epoch 63/100\n",
      "3842/3842 [==============================] - 2s 436us/step - loss: 6.4939 - top_k_categorical_accuracy: 0.9131 - val_loss: 5.5375 - val_top_k_categorical_accuracy: 0.8117\n",
      "Epoch 64/100\n",
      "3842/3842 [==============================] - 2s 452us/step - loss: 6.4975 - top_k_categorical_accuracy: 0.9102 - val_loss: 5.5376 - val_top_k_categorical_accuracy: 0.8117\n",
      "Epoch 65/100\n",
      "3842/3842 [==============================] - 2s 444us/step - loss: 6.4981 - top_k_categorical_accuracy: 0.9081 - val_loss: 5.5359 - val_top_k_categorical_accuracy: 0.8117\n",
      "Epoch 66/100\n",
      "3842/3842 [==============================] - 2s 473us/step - loss: 6.4990 - top_k_categorical_accuracy: 0.9099 - val_loss: 5.5360 - val_top_k_categorical_accuracy: 0.8117\n",
      "Epoch 67/100\n",
      "3842/3842 [==============================] - 2s 431us/step - loss: 6.4978 - top_k_categorical_accuracy: 0.9125 - val_loss: 5.5328 - val_top_k_categorical_accuracy: 0.8117\n",
      "Epoch 68/100\n",
      "3842/3842 [==============================] - 2s 435us/step - loss: 6.4969 - top_k_categorical_accuracy: 0.9131 - val_loss: 5.5353 - val_top_k_categorical_accuracy: 0.8117\n",
      "Epoch 69/100\n",
      "3842/3842 [==============================] - 2s 399us/step - loss: 6.4945 - top_k_categorical_accuracy: 0.9076 - val_loss: 5.5351 - val_top_k_categorical_accuracy: 0.8127\n",
      "Epoch 70/100\n",
      "3842/3842 [==============================] - 1s 378us/step - loss: 6.4710 - top_k_categorical_accuracy: 0.9178 - val_loss: 5.5357 - val_top_k_categorical_accuracy: 0.8127\n",
      "Epoch 71/100\n",
      "3842/3842 [==============================] - 2s 461us/step - loss: 6.4434 - top_k_categorical_accuracy: 0.9123 - val_loss: 5.5374 - val_top_k_categorical_accuracy: 0.8137\n",
      "Epoch 72/100\n",
      "3842/3842 [==============================] - 2s 471us/step - loss: 6.4562 - top_k_categorical_accuracy: 0.9154 - val_loss: 5.5383 - val_top_k_categorical_accuracy: 0.8137\n",
      "Epoch 73/100\n",
      "3842/3842 [==============================] - 2s 445us/step - loss: 6.4885 - top_k_categorical_accuracy: 0.9112 - val_loss: 5.5360 - val_top_k_categorical_accuracy: 0.8137\n",
      "Epoch 74/100\n",
      "3842/3842 [==============================] - 1s 377us/step - loss: 6.4281 - top_k_categorical_accuracy: 0.9154 - val_loss: 5.5365 - val_top_k_categorical_accuracy: 0.8127\n",
      "Epoch 75/100\n",
      "3842/3842 [==============================] - 2s 454us/step - loss: 6.4391 - top_k_categorical_accuracy: 0.9089 - val_loss: 5.5354 - val_top_k_categorical_accuracy: 0.8137\n",
      "Epoch 76/100\n",
      "3842/3842 [==============================] - 2s 510us/step - loss: 6.4406 - top_k_categorical_accuracy: 0.9136 - val_loss: 5.5356 - val_top_k_categorical_accuracy: 0.8148\n",
      "Epoch 77/100\n",
      "3842/3842 [==============================] - 1s 362us/step - loss: 6.4737 - top_k_categorical_accuracy: 0.9040 - val_loss: 5.5327 - val_top_k_categorical_accuracy: 0.8127\n",
      "Epoch 78/100\n",
      "3842/3842 [==============================] - 2s 400us/step - loss: 6.4255 - top_k_categorical_accuracy: 0.9084 - val_loss: 5.5338 - val_top_k_categorical_accuracy: 0.8117\n",
      "Epoch 79/100\n",
      "3842/3842 [==============================] - 2s 496us/step - loss: 6.4336 - top_k_categorical_accuracy: 0.9136 - val_loss: 5.5348 - val_top_k_categorical_accuracy: 0.8117\n",
      "Epoch 80/100\n",
      "3842/3842 [==============================] - 2s 451us/step - loss: 6.4487 - top_k_categorical_accuracy: 0.9128 - val_loss: 5.5338 - val_top_k_categorical_accuracy: 0.8137\n",
      "Epoch 81/100\n",
      "3842/3842 [==============================] - 1s 384us/step - loss: 6.4442 - top_k_categorical_accuracy: 0.9092 - val_loss: 5.5343 - val_top_k_categorical_accuracy: 0.8137\n",
      "Epoch 82/100\n",
      "3842/3842 [==============================] - 2s 420us/step - loss: 6.4169 - top_k_categorical_accuracy: 0.9105 - val_loss: 5.5329 - val_top_k_categorical_accuracy: 0.8127\n",
      "Epoch 83/100\n",
      "3842/3842 [==============================] - 1s 373us/step - loss: 6.4434 - top_k_categorical_accuracy: 0.9094 - val_loss: 5.5324 - val_top_k_categorical_accuracy: 0.8127\n",
      "Epoch 84/100\n",
      "3842/3842 [==============================] - 2s 473us/step - loss: 6.4356 - top_k_categorical_accuracy: 0.9149 - val_loss: 5.5309 - val_top_k_categorical_accuracy: 0.8117\n",
      "Epoch 85/100\n",
      "3842/3842 [==============================] - 2s 407us/step - loss: 6.4372 - top_k_categorical_accuracy: 0.9172 - val_loss: 5.5328 - val_top_k_categorical_accuracy: 0.8117\n",
      "Epoch 86/100\n",
      "3842/3842 [==============================] - 1s 363us/step - loss: 6.4534 - top_k_categorical_accuracy: 0.9047 - val_loss: 5.5310 - val_top_k_categorical_accuracy: 0.8117\n",
      "Epoch 87/100\n",
      "3842/3842 [==============================] - 1s 350us/step - loss: 6.4252 - top_k_categorical_accuracy: 0.9053 - val_loss: 5.5318 - val_top_k_categorical_accuracy: 0.8117\n",
      "Epoch 88/100\n",
      "3842/3842 [==============================] - 2s 416us/step - loss: 6.4034 - top_k_categorical_accuracy: 0.9138 - val_loss: 5.5329 - val_top_k_categorical_accuracy: 0.8117\n",
      "Epoch 89/100\n"
     ]
    },
    {
     "name": "stdout",
     "output_type": "stream",
     "text": [
      "3842/3842 [==============================] - 2s 457us/step - loss: 6.4051 - top_k_categorical_accuracy: 0.9120 - val_loss: 5.5327 - val_top_k_categorical_accuracy: 0.8117\n",
      "Epoch 90/100\n",
      "3842/3842 [==============================] - 2s 464us/step - loss: 6.4045 - top_k_categorical_accuracy: 0.9115 - val_loss: 5.5318 - val_top_k_categorical_accuracy: 0.8106\n",
      "Epoch 91/100\n",
      "3842/3842 [==============================] - 2s 399us/step - loss: 6.4005 - top_k_categorical_accuracy: 0.9107 - val_loss: 5.5313 - val_top_k_categorical_accuracy: 0.8106\n",
      "Epoch 92/100\n",
      "3842/3842 [==============================] - 2s 497us/step - loss: 6.3858 - top_k_categorical_accuracy: 0.9131 - val_loss: 5.5316 - val_top_k_categorical_accuracy: 0.8106\n",
      "Epoch 93/100\n",
      "3842/3842 [==============================] - 2s 412us/step - loss: 6.3876 - top_k_categorical_accuracy: 0.9118 - val_loss: 5.5335 - val_top_k_categorical_accuracy: 0.8106\n",
      "Epoch 94/100\n",
      "3842/3842 [==============================] - 2s 402us/step - loss: 6.3836 - top_k_categorical_accuracy: 0.9193 - val_loss: 5.5337 - val_top_k_categorical_accuracy: 0.8106\n",
      "Epoch 95/100\n",
      "3842/3842 [==============================] - 1s 360us/step - loss: 6.3894 - top_k_categorical_accuracy: 0.9060 - val_loss: 5.5311 - val_top_k_categorical_accuracy: 0.8106\n",
      "Epoch 96/100\n",
      "3842/3842 [==============================] - 2s 421us/step - loss: 6.3943 - top_k_categorical_accuracy: 0.9027 - val_loss: 5.5323 - val_top_k_categorical_accuracy: 0.8106\n",
      "Epoch 97/100\n",
      "3842/3842 [==============================] - 2s 538us/step - loss: 6.3854 - top_k_categorical_accuracy: 0.9068 - val_loss: 5.5322 - val_top_k_categorical_accuracy: 0.8106\n",
      "Epoch 98/100\n",
      "3842/3842 [==============================] - 2s 426us/step - loss: 6.3790 - top_k_categorical_accuracy: 0.9071 - val_loss: 5.5314 - val_top_k_categorical_accuracy: 0.8096\n",
      "Epoch 99/100\n",
      "3842/3842 [==============================] - 1s 382us/step - loss: 6.3765 - top_k_categorical_accuracy: 0.9131 - val_loss: 5.5338 - val_top_k_categorical_accuracy: 0.8106\n",
      "Epoch 100/100\n",
      "3842/3842 [==============================] - 1s 390us/step - loss: 6.3792 - top_k_categorical_accuracy: 0.9107 - val_loss: 5.5334 - val_top_k_categorical_accuracy: 0.8106\n"
     ]
    },
    {
     "data": {
      "text/plain": [
       "<keras.callbacks.History at 0x7f5a1609ff98>"
      ]
     },
     "execution_count": 106,
     "metadata": {},
     "output_type": "execute_result"
    }
   ],
   "source": [
    "import numpy as np\n",
    "model.fit(np.array(X_train), np.array(y_train), validation_data=(np.array(X_test),np.array(y_test)),epochs=100, batch_size=128, verbose=1,callbacks=[])"
   ]
  },
  {
   "cell_type": "code",
   "execution_count": 107,
   "metadata": {},
   "outputs": [
    {
     "name": "stdout",
     "output_type": "stream",
     "text": [
      "Accuracy:  [5.533366279721136, 0.8106139438085328]\n"
     ]
    }
   ],
   "source": [
    "score = model.evaluate(np.array(X_test), np.array(y_test), verbose=0)\n",
    "print(\"Accuracy: \", score)"
   ]
  },
  {
   "cell_type": "code",
   "execution_count": 104,
   "metadata": {},
   "outputs": [
    {
     "name": "stdout",
     "output_type": "stream",
     "text": [
      "[[4.6223268e-04 9.9573261e-01 9.3075651e-01 ... 1.0010205e-02\n",
      "  1.5178055e-03 2.1070032e-03]\n",
      " [1.6327131e-05 9.9979502e-01 9.8764145e-01 ... 2.7284694e-03\n",
      "  2.4683954e-04 1.9350668e-04]\n",
      " [1.1281032e-03 9.9513251e-01 9.2846942e-01 ... 2.2315359e-02\n",
      "  4.9236761e-03 4.9779951e-03]\n",
      " ...\n",
      " [2.8942979e-04 9.9685282e-01 9.3048221e-01 ... 7.1352120e-03\n",
      "  1.0091715e-03 1.3946560e-03]\n",
      " [2.6616995e-06 9.9995041e-01 9.9258196e-01 ... 9.6429588e-04\n",
      "  5.0518582e-05 3.6980320e-05]\n",
      " [1.1491616e-04 9.9898630e-01 9.7558820e-01 ... 8.4598465e-03\n",
      "  1.1786693e-03 9.6157839e-04]]\n"
     ]
    }
   ],
   "source": [
    "print(model.predict(np.array(X_test)))"
   ]
  },
  {
   "cell_type": "code",
   "execution_count": 96,
   "metadata": {},
   "outputs": [
    {
     "data": {
      "text/plain": [
       "(961, 3571)"
      ]
     },
     "execution_count": 96,
     "metadata": {},
     "output_type": "execute_result"
    }
   ],
   "source": [
    "np.array(X_test).shape"
   ]
  },
  {
   "cell_type": "code",
   "execution_count": null,
   "metadata": {},
   "outputs": [],
   "source": []
  }
 ],
 "metadata": {
  "kernelspec": {
   "display_name": "Python 3",
   "language": "python",
   "name": "python3"
  },
  "language_info": {
   "codemirror_mode": {
    "name": "ipython",
    "version": 3
   },
   "file_extension": ".py",
   "mimetype": "text/x-python",
   "name": "python",
   "nbconvert_exporter": "python",
   "pygments_lexer": "ipython3",
   "version": "3.6.4"
  }
 },
 "nbformat": 4,
 "nbformat_minor": 2
}
