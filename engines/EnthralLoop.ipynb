{
 "cells": [
  {
   "cell_type": "code",
   "execution_count": 5,
   "metadata": {},
   "outputs": [],
   "source": [
    "import json\n",
    "import keras\n",
    "import numpy as np\n",
    "def extractGenres(row):\n",
    "    json_dict_list = json.loads(row.genres)\n",
    "    genres = [d['name'].lower() for d in json_dict_list if 'name' in d]\n",
    "    return \" \".join(genres)"
   ]
  },
  {
   "cell_type": "code",
   "execution_count": 6,
   "metadata": {},
   "outputs": [],
   "source": [
    "import pandas as pd\n",
    "df = pd.read_csv('datasets/tmdb_5000_movies.csv')\n",
    "X = [str(p.overview) for p in df.itertuples()]\n",
    "y = [extractGenres(p).rstrip() for p in df.itertuples()]"
   ]
  },
  {
   "cell_type": "code",
   "execution_count": 7,
   "metadata": {},
   "outputs": [
    {
     "name": "stdout",
     "output_type": "stream",
     "text": [
      "22811 23\n"
     ]
    }
   ],
   "source": [
    "from keras.preprocessing.text import Tokenizer\n",
    "#from keras.sequences import pad_sequences\n",
    "Xtokenizer = Tokenizer(filters='!\"#$%&()*+,-./:;<=>?@[\\\\]^_`{|}~\\t\\n',lower=True,)\n",
    "Ytokenizer = Tokenizer(filters=' ',lower=True,)\n",
    "\n",
    "Xtokenizer.fit_on_texts(X)\n",
    "plot_matrix = Xtokenizer.texts_to_matrix(X)\n",
    "\n",
    "\n",
    "Ytokenizer.fit_on_texts(y)\n",
    "genre_matrix = Ytokenizer.texts_to_matrix(y)\n",
    "\n",
    "input_size = plot_matrix.shape[1]\n",
    "output_size = genre_matrix.shape[1]\n",
    "print(input_size,output_size)"
   ]
  },
  {
   "cell_type": "code",
   "execution_count": 12,
   "metadata": {},
   "outputs": [],
   "source": [
    "split_ratio = 0.8\n",
    "split_index = int(len(X)*split_ratio)\n",
    "X_train,X_test = np.array(plot_matrix[:split_index]) , np.array(plot_matrix[split_index:])\n",
    "y_train,y_test = np.array(genre_matrix[:split_index]) , np.array(genre_matrix[split_index:])"
   ]
  },
  {
   "cell_type": "code",
   "execution_count": 13,
   "metadata": {},
   "outputs": [
    {
     "name": "stdout",
     "output_type": "stream",
     "text": [
      "_________________________________________________________________\n",
      "Layer (type)                 Output Shape              Param #   \n",
      "=================================================================\n",
      "dense_4 (Dense)              (None, 512)               11679744  \n",
      "_________________________________________________________________\n",
      "dropout_3 (Dropout)          (None, 512)               0         \n",
      "_________________________________________________________________\n",
      "dense_5 (Dense)              (None, 128)               65664     \n",
      "_________________________________________________________________\n",
      "dropout_4 (Dropout)          (None, 128)               0         \n",
      "_________________________________________________________________\n",
      "dense_6 (Dense)              (None, 23)                2967      \n",
      "=================================================================\n",
      "Total params: 11,748,375\n",
      "Trainable params: 11,748,375\n",
      "Non-trainable params: 0\n",
      "_________________________________________________________________\n"
     ]
    }
   ],
   "source": [
    "from keras.models import Sequential\n",
    "from keras.layers import Dense, Dropout, Activation\n",
    "from keras.optimizers import Adadelta\n",
    "model = Sequential()\n",
    "model.add(Dense(512, activation='relu', input_dim=input_size))\n",
    "model.add(Dropout(0.4))\n",
    "model.add(Dense(128, activation='relu'))\n",
    "model.add(Dropout(0.2))\n",
    "model.add(Dense(output_size, activation='sigmoid'))\n",
    "model.summary()\n",
    "\n",
    "adadelta = Adadelta(lr=0.1, rho=0.95, decay=0.0)\n",
    "model.compile(loss='categorical_crossentropy', optimizer=adadelta,metrics=['top_k_categorical_accuracy'])"
   ]
  },
  {
   "cell_type": "code",
   "execution_count": 14,
   "metadata": {},
   "outputs": [],
   "source": [
    "from keras.callbacks import Callback,ModelCheckpoint,EarlyStopping\n",
    "checkpoint=ModelCheckpoint(filepath=None,monitor='val_loss',mode='min',verbose=1)"
   ]
  },
  {
   "cell_type": "code",
   "execution_count": 15,
   "metadata": {},
   "outputs": [
    {
     "name": "stdout",
     "output_type": "stream",
     "text": [
      "Epoch 1/50\n",
      "3842/3842 [==============================] - 8s 2ms/step - loss: 8.6234 - top_k_categorical_accuracy: 0.5401\n",
      "Epoch 2/50\n",
      "3842/3842 [==============================] - 7s 2ms/step - loss: 8.2366 - top_k_categorical_accuracy: 0.8004\n",
      "Epoch 3/50\n",
      "3842/3842 [==============================] - 7s 2ms/step - loss: 7.6421 - top_k_categorical_accuracy: 0.9151\n",
      "Epoch 4/50\n",
      "3842/3842 [==============================] - 7s 2ms/step - loss: 7.4325 - top_k_categorical_accuracy: 0.9412\n",
      "Epoch 5/50\n",
      "3842/3842 [==============================] - 7s 2ms/step - loss: 7.3676 - top_k_categorical_accuracy: 0.9472\n",
      "Epoch 6/50\n",
      "3842/3842 [==============================] - 8s 2ms/step - loss: 7.3243 - top_k_categorical_accuracy: 0.9430\n",
      "Epoch 7/50\n",
      "3842/3842 [==============================] - 7s 2ms/step - loss: 7.3031 - top_k_categorical_accuracy: 0.9438\n",
      "Epoch 8/50\n",
      "3842/3842 [==============================] - 7s 2ms/step - loss: 7.2671 - top_k_categorical_accuracy: 0.9433\n",
      "Epoch 9/50\n",
      "3842/3842 [==============================] - 7s 2ms/step - loss: 7.2283 - top_k_categorical_accuracy: 0.9438\n",
      "Epoch 10/50\n",
      "3842/3842 [==============================] - 7s 2ms/step - loss: 7.1832 - top_k_categorical_accuracy: 0.9459\n",
      "Epoch 11/50\n",
      "3842/3842 [==============================] - 7s 2ms/step - loss: 7.1534 - top_k_categorical_accuracy: 0.9453\n",
      "Epoch 12/50\n",
      "3842/3842 [==============================] - 7s 2ms/step - loss: 7.0962 - top_k_categorical_accuracy: 0.9459\n",
      "Epoch 13/50\n",
      "3842/3842 [==============================] - 7s 2ms/step - loss: 7.0472 - top_k_categorical_accuracy: 0.9456\n",
      "Epoch 14/50\n",
      "3842/3842 [==============================] - 7s 2ms/step - loss: 6.9909 - top_k_categorical_accuracy: 0.9474\n",
      "Epoch 15/50\n",
      "3842/3842 [==============================] - 7s 2ms/step - loss: 6.9440 - top_k_categorical_accuracy: 0.9422\n",
      "Epoch 16/50\n",
      "3842/3842 [==============================] - 7s 2ms/step - loss: 6.8678 - top_k_categorical_accuracy: 0.9422\n",
      "Epoch 17/50\n",
      "3842/3842 [==============================] - 7s 2ms/step - loss: 6.8116 - top_k_categorical_accuracy: 0.9409\n",
      "Epoch 18/50\n",
      "3842/3842 [==============================] - 8s 2ms/step - loss: 6.7419 - top_k_categorical_accuracy: 0.9427\n",
      "Epoch 19/50\n",
      "3842/3842 [==============================] - 7s 2ms/step - loss: 6.6821 - top_k_categorical_accuracy: 0.9440\n",
      "Epoch 20/50\n",
      "3842/3842 [==============================] - 7s 2ms/step - loss: 6.6212 - top_k_categorical_accuracy: 0.9448\n",
      "Epoch 21/50\n",
      "3842/3842 [==============================] - 7s 2ms/step - loss: 6.5432 - top_k_categorical_accuracy: 0.9446\n",
      "Epoch 22/50\n",
      "3842/3842 [==============================] - 7s 2ms/step - loss: 6.4983 - top_k_categorical_accuracy: 0.9422\n",
      "Epoch 23/50\n",
      "3842/3842 [==============================] - 7s 2ms/step - loss: 6.4102 - top_k_categorical_accuracy: 0.9443\n",
      "Epoch 24/50\n",
      "3842/3842 [==============================] - 7s 2ms/step - loss: 6.3384 - top_k_categorical_accuracy: 0.9414\n",
      "Epoch 25/50\n",
      "3842/3842 [==============================] - 8s 2ms/step - loss: 6.2534 - top_k_categorical_accuracy: 0.9365\n",
      "Epoch 26/50\n",
      "3842/3842 [==============================] - 7s 2ms/step - loss: 6.1960 - top_k_categorical_accuracy: 0.9344\n",
      "Epoch 27/50\n",
      "3842/3842 [==============================] - 7s 2ms/step - loss: 6.1414 - top_k_categorical_accuracy: 0.9292\n",
      "Epoch 28/50\n",
      "3842/3842 [==============================] - 7s 2ms/step - loss: 6.0638 - top_k_categorical_accuracy: 0.9349\n",
      "Epoch 29/50\n",
      "3842/3842 [==============================] - 7s 2ms/step - loss: 5.9859 - top_k_categorical_accuracy: 0.9373\n",
      "Epoch 30/50\n",
      "3842/3842 [==============================] - 7s 2ms/step - loss: 5.8979 - top_k_categorical_accuracy: 0.9420\n",
      "Epoch 31/50\n",
      "3842/3842 [==============================] - 7s 2ms/step - loss: 5.8110 - top_k_categorical_accuracy: 0.9334\n",
      "Epoch 32/50\n",
      "3842/3842 [==============================] - 7s 2ms/step - loss: 5.7428 - top_k_categorical_accuracy: 0.9284\n",
      "Epoch 33/50\n",
      "3842/3842 [==============================] - 7s 2ms/step - loss: 5.6816 - top_k_categorical_accuracy: 0.9284\n",
      "Epoch 34/50\n",
      "3842/3842 [==============================] - 7s 2ms/step - loss: 5.6181 - top_k_categorical_accuracy: 0.9347\n",
      "Epoch 35/50\n",
      "3842/3842 [==============================] - 7s 2ms/step - loss: 5.5541 - top_k_categorical_accuracy: 0.9313\n",
      "Epoch 36/50\n",
      "3842/3842 [==============================] - 7s 2ms/step - loss: 5.4856 - top_k_categorical_accuracy: 0.9300\n",
      "Epoch 37/50\n",
      "3842/3842 [==============================] - 7s 2ms/step - loss: 5.4291 - top_k_categorical_accuracy: 0.9365\n",
      "Epoch 38/50\n",
      "3842/3842 [==============================] - 7s 2ms/step - loss: 5.3902 - top_k_categorical_accuracy: 0.9412\n",
      "Epoch 39/50\n",
      "3842/3842 [==============================] - 7s 2ms/step - loss: 5.3314 - top_k_categorical_accuracy: 0.9414\n",
      "Epoch 40/50\n",
      "3842/3842 [==============================] - 7s 2ms/step - loss: 5.2748 - top_k_categorical_accuracy: 0.9443\n",
      "Epoch 41/50\n",
      "3842/3842 [==============================] - 7s 2ms/step - loss: 5.2388 - top_k_categorical_accuracy: 0.9396\n",
      "Epoch 42/50\n",
      "3842/3842 [==============================] - 7s 2ms/step - loss: 5.1916 - top_k_categorical_accuracy: 0.9479\n",
      "Epoch 43/50\n",
      "3842/3842 [==============================] - 7s 2ms/step - loss: 5.1348 - top_k_categorical_accuracy: 0.9469\n",
      "Epoch 44/50\n",
      "3842/3842 [==============================] - 7s 2ms/step - loss: 5.1058 - top_k_categorical_accuracy: 0.9505\n",
      "Epoch 45/50\n",
      "3842/3842 [==============================] - 7s 2ms/step - loss: 5.0525 - top_k_categorical_accuracy: 0.9518\n",
      "Epoch 46/50\n",
      "3842/3842 [==============================] - 7s 2ms/step - loss: 5.0294 - top_k_categorical_accuracy: 0.9565\n",
      "Epoch 47/50\n",
      "3842/3842 [==============================] - 7s 2ms/step - loss: 4.9644 - top_k_categorical_accuracy: 0.9591\n",
      "Epoch 48/50\n",
      "3842/3842 [==============================] - 7s 2ms/step - loss: 4.9297 - top_k_categorical_accuracy: 0.9547\n",
      "Epoch 49/50\n",
      "3842/3842 [==============================] - 7s 2ms/step - loss: 4.8760 - top_k_categorical_accuracy: 0.9568\n",
      "Epoch 50/50\n",
      "3842/3842 [==============================] - 7s 2ms/step - loss: 4.8456 - top_k_categorical_accuracy: 0.9604\n"
     ]
    },
    {
     "data": {
      "text/plain": [
       "<keras.callbacks.History at 0x7fe7789dc320>"
      ]
     },
     "execution_count": 15,
     "metadata": {},
     "output_type": "execute_result"
    }
   ],
   "source": [
    "import numpy as np\n",
    "model.fit(X_train, y_train,epochs=50, batch_size=128, verbose=1,callbacks=[])"
   ]
  },
  {
   "cell_type": "code",
   "execution_count": 16,
   "metadata": {},
   "outputs": [
    {
     "name": "stdout",
     "output_type": "stream",
     "text": [
      "Accuracy:  [5.083805448430882, 0.809573361082206]\n"
     ]
    }
   ],
   "source": [
    "from keras.models import load_model\n",
    "score = model.evaluate(np.array(X_test), np.array(y_test), verbose=0)\n",
    "model.save('el_model.h5')\n",
    "print(\"Accuracy: \", score)"
   ]
  },
  {
   "cell_type": "code",
   "execution_count": 17,
   "metadata": {},
   "outputs": [],
   "source": [
    "comments = ['An extraordinary target requires an exraordinary innings !! Bravo Kohli !!',\n",
    "            'I love my dog',\n",
    "            'my whole body feels itchy and like its on fire',\n",
    "            'Robbery Attempted at my bank today !! Stole 2m US Dollars']\n",
    "comments_test = Xtokenizer.texts_to_matrix(comments)\n",
    "y_probs = model.predict(np.array(comments_test))"
   ]
  },
  {
   "cell_type": "code",
   "execution_count": 18,
   "metadata": {},
   "outputs": [],
   "source": [
    "top_k = 3\n",
    "probs_to_indices = lambda ypb,k:np.argpartition(ypb,-k)[-k:]"
   ]
  },
  {
   "cell_type": "code",
   "execution_count": 19,
   "metadata": {},
   "outputs": [],
   "source": [
    "genre_to_index = Ytokenizer.word_index\n",
    "index_to_genre = [0]*output_size\n",
    "genre_to_index[''] = 0\n",
    "for k,v in genre_to_index.items():\n",
    "    index_to_genre[v] = k    \n",
    "indices_to_genres = lambda ind:[index_to_genre[i] for i in ind]"
   ]
  },
  {
   "cell_type": "code",
   "execution_count": 20,
   "metadata": {},
   "outputs": [],
   "source": [
    "output_genres = [indices_to_genres(probs_to_indices(p,top_k)) for p in y_probs]"
   ]
  },
  {
   "cell_type": "code",
   "execution_count": 21,
   "metadata": {},
   "outputs": [
    {
     "name": "stdout",
     "output_type": "stream",
     "text": [
      "['drama', 'thriller', 'action']\n",
      "['drama', 'comedy', 'romance']\n",
      "['comedy', 'thriller', 'drama']\n",
      "['crime', 'comedy', 'drama']\n"
     ]
    }
   ],
   "source": [
    "for out in output_genres:\n",
    "    print(out)"
   ]
  },
  {
   "cell_type": "code",
   "execution_count": null,
   "metadata": {},
   "outputs": [],
   "source": []
  }
 ],
 "metadata": {
  "kernelspec": {
   "display_name": "Python 3",
   "language": "python",
   "name": "python3"
  },
  "language_info": {
   "codemirror_mode": {
    "name": "ipython",
    "version": 3
   },
   "file_extension": ".py",
   "mimetype": "text/x-python",
   "name": "python",
   "nbconvert_exporter": "python",
   "pygments_lexer": "ipython3",
   "version": "3.6.4"
  }
 },
 "nbformat": 4,
 "nbformat_minor": 2
}
